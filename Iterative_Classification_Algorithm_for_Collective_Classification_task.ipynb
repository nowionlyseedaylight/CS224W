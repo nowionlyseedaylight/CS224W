{
  "cells": [
    {
      "cell_type": "code",
      "execution_count": 1,
      "metadata": {
        "id": "jqeetv1J5XeC"
      },
      "outputs": [],
      "source": [
        "# do not show sklearn warnings\n",
        "def warn(*args, **kwargs):\n",
        "    pass\n",
        "import warnings\n",
        "warnings.warn = warn"
      ]
    },
    {
      "cell_type": "code",
      "execution_count": null,
      "metadata": {
        "id": "zY62yAjx5XeF"
      },
      "outputs": [],
      "source": [
        "import csv\n",
        "import numpy as np\n",
        "import pandas as pd\n",
        "import random\n",
        "from sklearn.naive_bayes import GaussianNB\n",
        "from sklearn.metrics import f1_score,classification_report, accuracy_score\n",
        "from sklearn import svm\n",
        "from sklearn.tree import DecisionTreeClassifier\n",
        "import networkx as nx\n",
        "from operator import itemgetter \n"
      ]
    },
    {
      "cell_type": "code",
      "execution_count": null,
      "metadata": {
        "id": "qM1uU3Zu5XeG"
      },
      "outputs": [],
      "source": []
    },
    {
      "cell_type": "code",
      "execution_count": null,
      "metadata": {
        "id": "CwV8i1jk5XeH"
      },
      "outputs": [],
      "source": [
        "class1 = [86, 7, 27, 36, 69, 70, 85, 104, 121, 148, 156, 163]\n",
        "class2 = [76, 90, 136, 137, 143, 152, 47, 162]\n",
        "#class3 - other"
      ]
    },
    {
      "cell_type": "code",
      "execution_count": null,
      "metadata": {
        "id": "wXtv38_g5XeH"
      },
      "outputs": [],
      "source": [
        "communication_data = pd.read_csv('communication.csv', sep =';')  "
      ]
    },
    {
      "cell_type": "code",
      "execution_count": null,
      "metadata": {
        "id": "PcJGGjCg5XeI",
        "outputId": "cedb175b-200c-44d9-ecd0-d9dbfde686b1"
      },
      "outputs": [
        {
          "data": {
            "text/html": [
              "<div>\n",
              "<style scoped>\n",
              "    .dataframe tbody tr th:only-of-type {\n",
              "        vertical-align: middle;\n",
              "    }\n",
              "\n",
              "    .dataframe tbody tr th {\n",
              "        vertical-align: top;\n",
              "    }\n",
              "\n",
              "    .dataframe thead th {\n",
              "        text-align: right;\n",
              "    }\n",
              "</style>\n",
              "<table border=\"1\" class=\"dataframe\">\n",
              "  <thead>\n",
              "    <tr style=\"text-align: right;\">\n",
              "      <th></th>\n",
              "      <th>Sender</th>\n",
              "      <th>Recipient</th>\n",
              "      <th>EventDate</th>\n",
              "    </tr>\n",
              "  </thead>\n",
              "  <tbody>\n",
              "    <tr>\n",
              "      <th>0</th>\n",
              "      <td>17</td>\n",
              "      <td>37</td>\n",
              "      <td>2010-01-02 17:40:10</td>\n",
              "    </tr>\n",
              "    <tr>\n",
              "      <th>1</th>\n",
              "      <td>17</td>\n",
              "      <td>136</td>\n",
              "      <td>2010-01-02 17:40:10</td>\n",
              "    </tr>\n",
              "    <tr>\n",
              "      <th>2</th>\n",
              "      <td>17</td>\n",
              "      <td>62</td>\n",
              "      <td>2010-01-02 17:40:10</td>\n",
              "    </tr>\n",
              "    <tr>\n",
              "      <th>3</th>\n",
              "      <td>17</td>\n",
              "      <td>129</td>\n",
              "      <td>2010-01-02 17:40:10</td>\n",
              "    </tr>\n",
              "    <tr>\n",
              "      <th>4</th>\n",
              "      <td>17</td>\n",
              "      <td>32</td>\n",
              "      <td>2010-01-02 17:40:10</td>\n",
              "    </tr>\n",
              "  </tbody>\n",
              "</table>\n",
              "</div>"
            ],
            "text/plain": [
              "   Sender  Recipient            EventDate\n",
              "0      17         37  2010-01-02 17:40:10\n",
              "1      17        136  2010-01-02 17:40:10\n",
              "2      17         62  2010-01-02 17:40:10\n",
              "3      17        129  2010-01-02 17:40:10\n",
              "4      17         32  2010-01-02 17:40:10"
            ]
          },
          "execution_count": 5,
          "metadata": {},
          "output_type": "execute_result"
        }
      ],
      "source": [
        "communication_data.head()"
      ]
    },
    {
      "cell_type": "code",
      "execution_count": null,
      "metadata": {
        "id": "VNle1nVz5XeJ"
      },
      "outputs": [],
      "source": [
        "reportsto_data = pd.read_csv('reportsto.csv', sep =';')  "
      ]
    },
    {
      "cell_type": "code",
      "execution_count": null,
      "metadata": {
        "id": "FaiHHFNA5XeK",
        "outputId": "8e3a6ca2-502c-40cc-b43a-eea046a6162d"
      },
      "outputs": [
        {
          "data": {
            "text/html": [
              "<div>\n",
              "<style scoped>\n",
              "    .dataframe tbody tr th:only-of-type {\n",
              "        vertical-align: middle;\n",
              "    }\n",
              "\n",
              "    .dataframe tbody tr th {\n",
              "        vertical-align: top;\n",
              "    }\n",
              "\n",
              "    .dataframe thead th {\n",
              "        text-align: right;\n",
              "    }\n",
              "</style>\n",
              "<table border=\"1\" class=\"dataframe\">\n",
              "  <thead>\n",
              "    <tr style=\"text-align: right;\">\n",
              "      <th></th>\n",
              "      <th>ID</th>\n",
              "      <th>ReportsToID</th>\n",
              "    </tr>\n",
              "  </thead>\n",
              "  <tbody>\n",
              "    <tr>\n",
              "      <th>0</th>\n",
              "      <td>1</td>\n",
              "      <td>152</td>\n",
              "    </tr>\n",
              "    <tr>\n",
              "      <th>1</th>\n",
              "      <td>2</td>\n",
              "      <td>132</td>\n",
              "    </tr>\n",
              "    <tr>\n",
              "      <th>2</th>\n",
              "      <td>3</td>\n",
              "      <td>152</td>\n",
              "    </tr>\n",
              "    <tr>\n",
              "      <th>3</th>\n",
              "      <td>4</td>\n",
              "      <td>technical email account - not used by employees</td>\n",
              "    </tr>\n",
              "    <tr>\n",
              "      <th>4</th>\n",
              "      <td>5</td>\n",
              "      <td>36</td>\n",
              "    </tr>\n",
              "  </tbody>\n",
              "</table>\n",
              "</div>"
            ],
            "text/plain": [
              "   ID                                      ReportsToID\n",
              "0   1                                              152\n",
              "1   2                                              132\n",
              "2   3                                              152\n",
              "3   4  technical email account - not used by employees\n",
              "4   5                                               36"
            ]
          },
          "execution_count": 7,
          "metadata": {},
          "output_type": "execute_result"
        }
      ],
      "source": [
        "reportsto_data.head()"
      ]
    },
    {
      "cell_type": "code",
      "execution_count": null,
      "metadata": {
        "id": "yw9ZhtiC5XeK"
      },
      "outputs": [],
      "source": []
    },
    {
      "cell_type": "code",
      "execution_count": null,
      "metadata": {
        "id": "Dr5gJm1c5XeL"
      },
      "outputs": [],
      "source": [
        "class Node:\n",
        "    def __init__(self, n_id):\n",
        "        self.n_id = n_id\n",
        "        self.clear()\n",
        "        \n",
        "        \n",
        "    def features(self):\n",
        "        features_array = np.array([self.send, self.received, self.degree, self.betweenness, self.closeness, self.neighbors_1, self.neighbors_2, self.neighbors_3 ])\n",
        "        return features_array\n",
        "    \n",
        "    def set_label(self,l):\n",
        "        if self.label == l:\n",
        "            return False\n",
        "        else:\n",
        "            self.label = l\n",
        "            return True\n",
        "        \n",
        "    def set_values(self,c,b,d):\n",
        "        self.degree = d\n",
        "        self.betweenness = b\n",
        "        self.closeness = c\n",
        "    \n",
        "    \n",
        "    def update_neighbours(self, neighbors):\n",
        "        self.neighbors_2 =0\n",
        "        self.neighbors_3 =0\n",
        "        self.neighbors_1 =0\n",
        "        \n",
        "        for n in neighbors:\n",
        "            nl = n.label\n",
        "            if nl ==1:\n",
        "                self.neighbors_1 +=1\n",
        "            elif nl ==2:\n",
        "                self.neighbors_2 +=1\n",
        "            elif nl ==3:\n",
        "                self.neighbors_3 +=1\n",
        "                \n",
        "    def show(self):\n",
        "        return( self.n_id, \n",
        "              self.known, \n",
        "              self.label,\n",
        "              self.send,\n",
        "              self.received, \n",
        "              self.degree,\n",
        "              self.betweenness,\n",
        "              self.closeness,\n",
        "              self.neighbors_1,\n",
        "              self.neighbors_2,\n",
        "              self.neighbors_3)\n",
        "        \n",
        "    def clear(self):\n",
        "        self.known = False\n",
        "        self.label = -1\n",
        "        self.send = 0\n",
        "        self.received = 0\n",
        "        self.degree = -1\n",
        "        self.betweenness = -1\n",
        "        self.closeness = -1\n",
        "        self.neighbors_1 = 0\n",
        "        self.neighbors_2 = 0\n",
        "        self.neighbors_3 = 0\n",
        "                \n",
        "            \n",
        "            "
      ]
    },
    {
      "cell_type": "code",
      "execution_count": null,
      "metadata": {
        "id": "1EN5lUS55XeM"
      },
      "outputs": [],
      "source": [
        "def check_node_value(node_nr):\n",
        "    if node_nr in class1:\n",
        "        return 1\n",
        "    if node_nr in class2:\n",
        "        return 2\n",
        "    return 3"
      ]
    },
    {
      "cell_type": "code",
      "execution_count": null,
      "metadata": {
        "id": "CpMykeLs5XeN"
      },
      "outputs": [],
      "source": [
        "def get_node_neighbours(G,n_id,all_nodes):\n",
        "    node_neighbours = []\n",
        "    for nn in G.neighbors(n_id):\n",
        "        node_neighbours.append(all_nodes[nn])\n",
        "    return node_neighbours"
      ]
    },
    {
      "cell_type": "code",
      "execution_count": null,
      "metadata": {
        "id": "KOfbkTGH5XeO"
      },
      "outputs": [],
      "source": [
        "def clear_nodes(nodes):\n",
        "    for n in nodes:\n",
        "        nodes[n].clear()"
      ]
    },
    {
      "cell_type": "code",
      "execution_count": null,
      "metadata": {
        "id": "a44RG3D-5XeO"
      },
      "outputs": [],
      "source": [
        "def select_known(N, source):\n",
        "    known = [x[0] for x in list(source[:N])]\n",
        "    unknown = [x[0] for x in list(source[N:])]\n",
        "    return known, unknown"
      ]
    },
    {
      "cell_type": "code",
      "execution_count": null,
      "metadata": {
        "id": "GXouD71-5XeP"
      },
      "outputs": [],
      "source": []
    },
    {
      "cell_type": "code",
      "execution_count": null,
      "metadata": {
        "id": "zt4CwDJi5XeP"
      },
      "outputs": [],
      "source": [
        "def prepare_nodes(k_nodes,betweennes,closeness,degree, nodes, G=G): \n",
        "    for n in k_nodes:\n",
        "        node = nodes[n]\n",
        "        node.known = True\n",
        "        node.label = check_node_value(n)\n",
        "\n",
        "\n",
        "    for n in nodes:\n",
        "        node = nodes[n]\n",
        "        node.set_values(closeness[n],betweennes[n],degree[n])\n",
        "        node.update_neighbours(get_node_neighbours(G, n,nodes))\n",
        "\n"
      ]
    },
    {
      "cell_type": "code",
      "execution_count": null,
      "metadata": {
        "id": "ifMS5RzN5XeQ"
      },
      "outputs": [],
      "source": [
        "\n",
        "all_nodes = {}\n",
        "edges_communication_all = []\n",
        "\n",
        "for index, row in communication_data.iterrows():\n",
        "    sender_id = int(row['Sender'])\n",
        "    recipient_id = int(row['Recipient'])\n",
        "    \n",
        "    edges_communication_all.append((sender_id,recipient_id ))\n",
        "    \n",
        "    \n",
        "    if recipient_id not in all_nodes:\n",
        "        all_nodes[recipient_id] = Node(recipient_id)\n",
        "        \n",
        "    if sender_id not in all_nodes:\n",
        "        all_nodes[sender_id]  = Node(sender_id)\n",
        "        \n",
        "    all_nodes[recipient_id].received +=1\n",
        "    all_nodes[sender_id].send +=1\n",
        "        \n"
      ]
    },
    {
      "cell_type": "code",
      "execution_count": null,
      "metadata": {
        "id": "_I13d1iu5XeQ"
      },
      "outputs": [],
      "source": [
        "#remove duplicates:\n",
        "\n",
        "edges_communication = []\n",
        "for s,r in edges_communication_all:\n",
        "    if not((s,r) in edges_communication or  (r,s) in edges_communication):\n",
        "        edges_communication.append((s,r))\n",
        "        \n",
        "        \n",
        "    "
      ]
    },
    {
      "cell_type": "code",
      "execution_count": null,
      "metadata": {
        "id": "gltPSIq25XeR",
        "outputId": "c469aab0-ad79-4849-d2d0-a7d59a2a3055"
      },
      "outputs": [
        {
          "data": {
            "text/plain": [
              "3251"
            ]
          },
          "execution_count": 15,
          "metadata": {},
          "output_type": "execute_result"
        }
      ],
      "source": [
        "len(edges_communication)"
      ]
    },
    {
      "cell_type": "code",
      "execution_count": null,
      "metadata": {
        "id": "LMQ5_-wF5XeR"
      },
      "outputs": [],
      "source": []
    },
    {
      "cell_type": "code",
      "execution_count": null,
      "metadata": {
        "id": "99334tj_5XeR"
      },
      "outputs": [],
      "source": [
        "G = nx.Graph()\n",
        "G.add_edges_from(edges_communication)"
      ]
    },
    {
      "cell_type": "code",
      "execution_count": null,
      "metadata": {
        "id": "mLLdmxPc5XeS"
      },
      "outputs": [],
      "source": []
    },
    {
      "cell_type": "code",
      "execution_count": null,
      "metadata": {
        "id": "VbL4mXs-5XeS"
      },
      "outputs": [],
      "source": [
        "pos = nx.circular_layout(G)\n",
        "\n",
        "nx.draw(G, with_labels=True, node_size=10)\n"
      ]
    },
    {
      "cell_type": "code",
      "execution_count": null,
      "metadata": {
        "id": "T5BT6TLQ5XeT"
      },
      "outputs": [],
      "source": []
    },
    {
      "cell_type": "code",
      "execution_count": null,
      "metadata": {
        "id": "CrxJgBaJ5XeT"
      },
      "outputs": [],
      "source": [
        "betweenness_dict = nx.betweenness_centrality(G)\n",
        "closeness_dict = nx.closeness_centrality(G)\n",
        "degree_dict = dict(G.degree())"
      ]
    },
    {
      "cell_type": "code",
      "execution_count": null,
      "metadata": {
        "id": "NjtCWdZ65XeT"
      },
      "outputs": [],
      "source": [
        "betweenness_sorted = sorted(betweenness_dict.items(), key = itemgetter(1), reverse = True) \n",
        "closeness_sorted = sorted(closeness_dict.items(), key = itemgetter(1), reverse = True)\n",
        "degree_sorted = sorted(degree_dict.items(), key = itemgetter(1), reverse = True)\n"
      ]
    },
    {
      "cell_type": "code",
      "execution_count": null,
      "metadata": {
        "id": "8GF498di5XeU"
      },
      "outputs": [],
      "source": []
    },
    {
      "cell_type": "code",
      "execution_count": null,
      "metadata": {
        "id": "O0vqNJ8f5XeU"
      },
      "outputs": [],
      "source": []
    },
    {
      "cell_type": "code",
      "execution_count": null,
      "metadata": {
        "id": "kDTQPb0s5XeU"
      },
      "outputs": [],
      "source": []
    },
    {
      "cell_type": "code",
      "execution_count": null,
      "metadata": {
        "id": "YK8mc2v_5XeU"
      },
      "outputs": [],
      "source": [
        "def train_classifier(k_nodes , nodes, classification_type='dt' ):\n",
        "    # prepare train data for classifier:\n",
        "    x_train = []\n",
        "    y_train = []\n",
        "\n",
        "    for k in k_nodes:\n",
        "        n = nodes[k]\n",
        "        x_train.append(n.features())\n",
        "        y_train.append(n.label)\n",
        "\n",
        "    if classification_type == 'dt':\n",
        "        classifier = DecisionTreeClassifier( random_state =2)\n",
        "    elif classification_type = 'gnb'\n",
        "        classifier = GaussianNB()\n",
        "    else:\n",
        "        raise Exception( 'This classification type is not available') \n",
        "        \n",
        "    classifier = classifier.fit(x_train, y_train)   \n",
        "    return classifier"
      ]
    },
    {
      "cell_type": "code",
      "execution_count": null,
      "metadata": {
        "id": "Y97iRdiH5XeV"
      },
      "outputs": [],
      "source": []
    },
    {
      "cell_type": "code",
      "execution_count": null,
      "metadata": {
        "id": "FYaFn8Jb5XeV"
      },
      "outputs": [],
      "source": [
        "def run_iterative_classification( classifier, nodes_order, nodes, max_iters = 1000, G=G ):\n",
        "\n",
        "    MAX_ITERS = max_iters\n",
        "    label_changed = True\n",
        "    n_iter = 0\n",
        "    while label_changed and n_iter<MAX_ITERS:\n",
        "        label_changed = False \n",
        "        for o in nodes_order:\n",
        "            node = nodes[o]\n",
        "            prev_label = node.label\n",
        "            n_neighbours = get_node_neighbours(G, o,all_nodes)\n",
        "            node.update_neighbours(n_neighbours)\n",
        "            nf = node.features()\n",
        "            n_curr_label = classifier.predict([nf])[0]\n",
        "            n_changed = node.set_label(n_curr_label)\n",
        "            if n_changed:\n",
        "                label_changed = True\n",
        "        n_iter+=1\n",
        "    print('Number of iters:', n_iter)\n"
      ]
    },
    {
      "cell_type": "code",
      "execution_count": null,
      "metadata": {
        "id": "i-W8rF-65XeW"
      },
      "outputs": [],
      "source": [
        "def evaluate(nodes_to_evaluate, all_nodes):\n",
        "    true_labels = []\n",
        "    pred_labels = []\n",
        "    for o in nodes_to_evaluate:\n",
        "        n = all_nodes[o]\n",
        "        pred_labels.append(n.label)\n",
        "        true_labels.append(check_node_value(o))\n",
        "    f1 = f1_score(true_labels, pred_labels, average='macro')\n",
        "    accuracy = accuracy_score(true_labels, pred_labels)\n",
        "    #print(classification_report(true_labels, pred_labels))\n",
        "    return f1, accuracy "
      ]
    },
    {
      "cell_type": "code",
      "execution_count": null,
      "metadata": {
        "id": "KSaHkhxj5XeW"
      },
      "outputs": [],
      "source": []
    },
    {
      "cell_type": "code",
      "execution_count": null,
      "metadata": {
        "id": "AXBi4eT05XeW"
      },
      "outputs": [],
      "source": [
        "b = betweenness_sorted\n",
        "c = closeness_sorted\n",
        "d = degree_sorted"
      ]
    },
    {
      "cell_type": "code",
      "execution_count": null,
      "metadata": {
        "id": "fmY9q6jN5XeX"
      },
      "outputs": [],
      "source": []
    },
    {
      "cell_type": "code",
      "execution_count": null,
      "metadata": {
        "id": "4Q8_1tC95XeX",
        "outputId": "cdd87c4f-386f-4199-9327-ebc92cbbc17e"
      },
      "outputs": [
        {
          "name": "stdout",
          "output_type": "stream",
          "text": [
            "Number of iters: 2\n"
          ]
        },
        {
          "data": {
            "text/plain": [
              "(0.3128760529482551, 0.8843537414965986)"
            ]
          },
          "execution_count": 37,
          "metadata": {},
          "output_type": "execute_result"
        }
      ],
      "source": [
        "clear_nodes(all_nodes)\n",
        "known_nodes,unknown_nodes = select_known(20,d)\n",
        "prepare_nodes(known_nodes, betweenness_dict, closeness_dict, degree_dict, nodes = all_nodes)\n",
        "classifier = train_classifier( k_nodes = known_nodes, nodes = all_nodes)\n",
        "run_iterative_classification(classifier,nodes_order = unknown_nodes,  nodes = all_nodes)\n",
        "evaluate(unknown_nodes, all_nodes)"
      ]
    },
    {
      "cell_type": "code",
      "execution_count": null,
      "metadata": {
        "id": "zWpYOaIb5XeY"
      },
      "outputs": [],
      "source": []
    },
    {
      "cell_type": "code",
      "execution_count": null,
      "metadata": {
        "id": "MR4V_t195XeY"
      },
      "outputs": [],
      "source": []
    },
    {
      "cell_type": "markdown",
      "metadata": {
        "id": "YjlN5rbI5XeY"
      },
      "source": [
        "### Results"
      ]
    },
    {
      "cell_type": "markdown",
      "metadata": {
        "id": "WrrNUNlk5Xea"
      },
      "source": [
        "#### Decision Tree Classifier\n",
        "\n",
        "|UtilityScore | Nr of known nodes| Acc |Fscore | \n",
        "|--------------|------------|----------|-------|\n",
        "|Degree| 10|  4|  3| \n",
        "|Degree|20 |80 |31|\n",
        "|Degree |40 |91| 32 |\n",
        "|Degree |60 |93 |32|\n",
        "|Degree|80 | 93| 32|\n",
        "|Degree|100|  93| 32|\n",
        "|Degree |120 |84 |32|\n",
        "|Degree |140 |89| 31|\n",
        "| |  \n",
        "|Betweenness  |10  |11 |8 |\n",
        "|Betweenness  |20| 5 |3| \n",
        "|Betweenness |40  |91 |32 |\n",
        "|Betweenness  |60 | 64| 28|\n",
        "|Betweenness  |80  |59 |26|\n",
        "|Betweenness  |100 |49 |24|\n",
        "|Betweenness  |120| 2 | 1|\n",
        "|Betweenness | 140| 4 |2| \n",
        "||\n",
        "|Closeness  |10|  4 |3|\n",
        "|Closeness|20| 80| 35|\n",
        "|Closeness |40| 92 |32| \n",
        "|Closeness| 60| 93| 32 |\n",
        "|Closeness| 80|  94 |32 | \n",
        "|Closeness| 100|  94| 32 |\n",
        "|Closeness |120 |94| 32|\n",
        "|Closeness| 140 |4| 3 |"
      ]
    },
    {
      "cell_type": "markdown",
      "metadata": {
        "id": "WwvagQJt5Xeb"
      },
      "source": [
        "#### Naive Bayes Tree Classifier\n",
        "\n",
        "\n",
        "|UtilityScore | Nr of known nodes| Acc |Fscore | \n",
        "|--------------|------------|----------|-------|\n",
        "|Degree| 10| 85 |31  | \n",
        "|Degree|20 |88 |31|\n",
        "|Degree |40 |91| 32 |\n",
        "|Degree |60 |93 |32|\n",
        "|Degree|80 | 93| 32|\n",
        "|Degree|100|  94| 32|\n",
        "|Degree |120 |94 |32|\n",
        "|Degree |140 |89| 31|\n",
        "| |  \n",
        "|Betweenness  |10  |89 |31|\n",
        "|Betweenness  |20| 88|31| \n",
        "|Betweenness |40  |6 |4 |\n",
        "|Betweenness  |60 | 93| 32|\n",
        "|Betweenness  |80  |94 |32|\n",
        "|Betweenness  |100 |96 |33|\n",
        "|Betweenness  |120| 96| 33|\n",
        "|Betweenness | 140| 93 |32| \n",
        "||\n",
        "|Closeness  |10|  88 |31|\n",
        "|Closeness|20| 88| 31|\n",
        "|Closeness |40| 92 |32| \n",
        "|Closeness| 60| 93| 32 |\n",
        "|Closeness| 80|  94 |32 | \n",
        "|Closeness| 100|  94| 32 |\n",
        "|Closeness |120 |94| 32|\n",
        "|Closeness| 140 |93| 32 |"
      ]
    },
    {
      "cell_type": "code",
      "execution_count": null,
      "metadata": {
        "id": "p-YalbhB5Xec"
      },
      "outputs": [],
      "source": []
    }
  ],
  "metadata": {
    "kernelspec": {
      "display_name": "Python 3",
      "language": "python",
      "name": "python3"
    },
    "language_info": {
      "codemirror_mode": {
        "name": "ipython",
        "version": 3
      },
      "file_extension": ".py",
      "mimetype": "text/x-python",
      "name": "python",
      "nbconvert_exporter": "python",
      "pygments_lexer": "ipython3",
      "version": "3.7.2"
    },
    "colab": {
      "provenance": []
    }
  },
  "nbformat": 4,
  "nbformat_minor": 0
}