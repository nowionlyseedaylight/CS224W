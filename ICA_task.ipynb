{
  "cells": [
    {
      "cell_type": "markdown",
      "metadata": {
        "id": "view-in-github",
        "colab_type": "text"
      },
      "source": [
        "<a href=\"https://colab.research.google.com/github/nowionlyseedaylight/CS224W/blob/main/ICA_task.ipynb\" target=\"_parent\"><img src=\"https://colab.research.google.com/assets/colab-badge.svg\" alt=\"Open In Colab\"/></a>"
      ]
    },
    {
      "cell_type": "code",
      "execution_count": 1,
      "metadata": {
        "id": "jqeetv1J5XeC"
      },
      "outputs": [],
      "source": [
        "# do not show sklearn warnings\n",
        "def warn(*args, **kwargs):\n",
        "    pass\n",
        "import warnings\n",
        "warnings.warn = warn"
      ]
    },
    {
      "cell_type": "code",
      "execution_count": 2,
      "metadata": {
        "id": "zY62yAjx5XeF"
      },
      "outputs": [],
      "source": [
        "import csv\n",
        "import numpy as np\n",
        "import pandas as pd\n",
        "import random\n",
        "from sklearn.naive_bayes import GaussianNB\n",
        "from sklearn.metrics import f1_score,classification_report, accuracy_score\n",
        "from sklearn import svm\n",
        "from sklearn.tree import DecisionTreeClassifier\n",
        "import networkx as nx\n",
        "from operator import itemgetter \n"
      ]
    },
    {
      "cell_type": "code",
      "execution_count": null,
      "metadata": {
        "id": "qM1uU3Zu5XeG"
      },
      "outputs": [],
      "source": []
    },
    {
      "cell_type": "code",
      "execution_count": 3,
      "metadata": {
        "id": "CwV8i1jk5XeH"
      },
      "outputs": [],
      "source": [
        "class1 = [86, 7, 27, 36, 69, 70, 85, 104, 121, 148, 156, 163]\n",
        "class2 = [76, 90, 136, 137, 143, 152, 47, 162]\n",
        "#class3 - other"
      ]
    },
    {
      "cell_type": "code",
      "execution_count": 5,
      "metadata": {
        "id": "wXtv38_g5XeH"
      },
      "outputs": [],
      "source": [
        "communication_data = pd.read_csv('communication.csv', sep =';')  "
      ]
    },
    {
      "cell_type": "code",
      "execution_count": 6,
      "metadata": {
        "id": "PcJGGjCg5XeI",
        "outputId": "bf369a3f-af17-4563-96bc-3e46f8fbfaa3",
        "colab": {
          "base_uri": "https://localhost:8080/",
          "height": 206
        }
      },
      "outputs": [
        {
          "output_type": "execute_result",
          "data": {
            "text/plain": [
              "   Sender  Recipient            EventDate\n",
              "0      17         37  2010-01-02 17:40:10\n",
              "1      17        136  2010-01-02 17:40:10\n",
              "2      17         62  2010-01-02 17:40:10\n",
              "3      17        129  2010-01-02 17:40:10\n",
              "4      17         32  2010-01-02 17:40:10"
            ],
            "text/html": [
              "\n",
              "  <div id=\"df-d6290054-0e6a-463c-b7f0-f25399b83f49\">\n",
              "    <div class=\"colab-df-container\">\n",
              "      <div>\n",
              "<style scoped>\n",
              "    .dataframe tbody tr th:only-of-type {\n",
              "        vertical-align: middle;\n",
              "    }\n",
              "\n",
              "    .dataframe tbody tr th {\n",
              "        vertical-align: top;\n",
              "    }\n",
              "\n",
              "    .dataframe thead th {\n",
              "        text-align: right;\n",
              "    }\n",
              "</style>\n",
              "<table border=\"1\" class=\"dataframe\">\n",
              "  <thead>\n",
              "    <tr style=\"text-align: right;\">\n",
              "      <th></th>\n",
              "      <th>Sender</th>\n",
              "      <th>Recipient</th>\n",
              "      <th>EventDate</th>\n",
              "    </tr>\n",
              "  </thead>\n",
              "  <tbody>\n",
              "    <tr>\n",
              "      <th>0</th>\n",
              "      <td>17</td>\n",
              "      <td>37</td>\n",
              "      <td>2010-01-02 17:40:10</td>\n",
              "    </tr>\n",
              "    <tr>\n",
              "      <th>1</th>\n",
              "      <td>17</td>\n",
              "      <td>136</td>\n",
              "      <td>2010-01-02 17:40:10</td>\n",
              "    </tr>\n",
              "    <tr>\n",
              "      <th>2</th>\n",
              "      <td>17</td>\n",
              "      <td>62</td>\n",
              "      <td>2010-01-02 17:40:10</td>\n",
              "    </tr>\n",
              "    <tr>\n",
              "      <th>3</th>\n",
              "      <td>17</td>\n",
              "      <td>129</td>\n",
              "      <td>2010-01-02 17:40:10</td>\n",
              "    </tr>\n",
              "    <tr>\n",
              "      <th>4</th>\n",
              "      <td>17</td>\n",
              "      <td>32</td>\n",
              "      <td>2010-01-02 17:40:10</td>\n",
              "    </tr>\n",
              "  </tbody>\n",
              "</table>\n",
              "</div>\n",
              "      <button class=\"colab-df-convert\" onclick=\"convertToInteractive('df-d6290054-0e6a-463c-b7f0-f25399b83f49')\"\n",
              "              title=\"Convert this dataframe to an interactive table.\"\n",
              "              style=\"display:none;\">\n",
              "        \n",
              "  <svg xmlns=\"http://www.w3.org/2000/svg\" height=\"24px\"viewBox=\"0 0 24 24\"\n",
              "       width=\"24px\">\n",
              "    <path d=\"M0 0h24v24H0V0z\" fill=\"none\"/>\n",
              "    <path d=\"M18.56 5.44l.94 2.06.94-2.06 2.06-.94-2.06-.94-.94-2.06-.94 2.06-2.06.94zm-11 1L8.5 8.5l.94-2.06 2.06-.94-2.06-.94L8.5 2.5l-.94 2.06-2.06.94zm10 10l.94 2.06.94-2.06 2.06-.94-2.06-.94-.94-2.06-.94 2.06-2.06.94z\"/><path d=\"M17.41 7.96l-1.37-1.37c-.4-.4-.92-.59-1.43-.59-.52 0-1.04.2-1.43.59L10.3 9.45l-7.72 7.72c-.78.78-.78 2.05 0 2.83L4 21.41c.39.39.9.59 1.41.59.51 0 1.02-.2 1.41-.59l7.78-7.78 2.81-2.81c.8-.78.8-2.07 0-2.86zM5.41 20L4 18.59l7.72-7.72 1.47 1.35L5.41 20z\"/>\n",
              "  </svg>\n",
              "      </button>\n",
              "      \n",
              "  <style>\n",
              "    .colab-df-container {\n",
              "      display:flex;\n",
              "      flex-wrap:wrap;\n",
              "      gap: 12px;\n",
              "    }\n",
              "\n",
              "    .colab-df-convert {\n",
              "      background-color: #E8F0FE;\n",
              "      border: none;\n",
              "      border-radius: 50%;\n",
              "      cursor: pointer;\n",
              "      display: none;\n",
              "      fill: #1967D2;\n",
              "      height: 32px;\n",
              "      padding: 0 0 0 0;\n",
              "      width: 32px;\n",
              "    }\n",
              "\n",
              "    .colab-df-convert:hover {\n",
              "      background-color: #E2EBFA;\n",
              "      box-shadow: 0px 1px 2px rgba(60, 64, 67, 0.3), 0px 1px 3px 1px rgba(60, 64, 67, 0.15);\n",
              "      fill: #174EA6;\n",
              "    }\n",
              "\n",
              "    [theme=dark] .colab-df-convert {\n",
              "      background-color: #3B4455;\n",
              "      fill: #D2E3FC;\n",
              "    }\n",
              "\n",
              "    [theme=dark] .colab-df-convert:hover {\n",
              "      background-color: #434B5C;\n",
              "      box-shadow: 0px 1px 3px 1px rgba(0, 0, 0, 0.15);\n",
              "      filter: drop-shadow(0px 1px 2px rgba(0, 0, 0, 0.3));\n",
              "      fill: #FFFFFF;\n",
              "    }\n",
              "  </style>\n",
              "\n",
              "      <script>\n",
              "        const buttonEl =\n",
              "          document.querySelector('#df-d6290054-0e6a-463c-b7f0-f25399b83f49 button.colab-df-convert');\n",
              "        buttonEl.style.display =\n",
              "          google.colab.kernel.accessAllowed ? 'block' : 'none';\n",
              "\n",
              "        async function convertToInteractive(key) {\n",
              "          const element = document.querySelector('#df-d6290054-0e6a-463c-b7f0-f25399b83f49');\n",
              "          const dataTable =\n",
              "            await google.colab.kernel.invokeFunction('convertToInteractive',\n",
              "                                                     [key], {});\n",
              "          if (!dataTable) return;\n",
              "\n",
              "          const docLinkHtml = 'Like what you see? Visit the ' +\n",
              "            '<a target=\"_blank\" href=https://colab.research.google.com/notebooks/data_table.ipynb>data table notebook</a>'\n",
              "            + ' to learn more about interactive tables.';\n",
              "          element.innerHTML = '';\n",
              "          dataTable['output_type'] = 'display_data';\n",
              "          await google.colab.output.renderOutput(dataTable, element);\n",
              "          const docLink = document.createElement('div');\n",
              "          docLink.innerHTML = docLinkHtml;\n",
              "          element.appendChild(docLink);\n",
              "        }\n",
              "      </script>\n",
              "    </div>\n",
              "  </div>\n",
              "  "
            ]
          },
          "metadata": {},
          "execution_count": 6
        }
      ],
      "source": [
        "communication_data.head()"
      ]
    },
    {
      "cell_type": "code",
      "execution_count": 8,
      "metadata": {
        "id": "VNle1nVz5XeJ"
      },
      "outputs": [],
      "source": [
        "reportsto_data = pd.read_csv('reportsto.csv', sep =';')  "
      ]
    },
    {
      "cell_type": "code",
      "execution_count": 9,
      "metadata": {
        "id": "FaiHHFNA5XeK",
        "outputId": "7128afa0-b20f-4d92-b2be-44c5e4856e16",
        "colab": {
          "base_uri": "https://localhost:8080/",
          "height": 206
        }
      },
      "outputs": [
        {
          "output_type": "execute_result",
          "data": {
            "text/plain": [
              "   ID                                      ReportsToID\n",
              "0   1                                              152\n",
              "1   2                                              132\n",
              "2   3                                              152\n",
              "3   4  technical email account - not used by employees\n",
              "4   5                                               36"
            ],
            "text/html": [
              "\n",
              "  <div id=\"df-ac445a95-96ec-493b-90ca-482f31c669c6\">\n",
              "    <div class=\"colab-df-container\">\n",
              "      <div>\n",
              "<style scoped>\n",
              "    .dataframe tbody tr th:only-of-type {\n",
              "        vertical-align: middle;\n",
              "    }\n",
              "\n",
              "    .dataframe tbody tr th {\n",
              "        vertical-align: top;\n",
              "    }\n",
              "\n",
              "    .dataframe thead th {\n",
              "        text-align: right;\n",
              "    }\n",
              "</style>\n",
              "<table border=\"1\" class=\"dataframe\">\n",
              "  <thead>\n",
              "    <tr style=\"text-align: right;\">\n",
              "      <th></th>\n",
              "      <th>ID</th>\n",
              "      <th>ReportsToID</th>\n",
              "    </tr>\n",
              "  </thead>\n",
              "  <tbody>\n",
              "    <tr>\n",
              "      <th>0</th>\n",
              "      <td>1</td>\n",
              "      <td>152</td>\n",
              "    </tr>\n",
              "    <tr>\n",
              "      <th>1</th>\n",
              "      <td>2</td>\n",
              "      <td>132</td>\n",
              "    </tr>\n",
              "    <tr>\n",
              "      <th>2</th>\n",
              "      <td>3</td>\n",
              "      <td>152</td>\n",
              "    </tr>\n",
              "    <tr>\n",
              "      <th>3</th>\n",
              "      <td>4</td>\n",
              "      <td>technical email account - not used by employees</td>\n",
              "    </tr>\n",
              "    <tr>\n",
              "      <th>4</th>\n",
              "      <td>5</td>\n",
              "      <td>36</td>\n",
              "    </tr>\n",
              "  </tbody>\n",
              "</table>\n",
              "</div>\n",
              "      <button class=\"colab-df-convert\" onclick=\"convertToInteractive('df-ac445a95-96ec-493b-90ca-482f31c669c6')\"\n",
              "              title=\"Convert this dataframe to an interactive table.\"\n",
              "              style=\"display:none;\">\n",
              "        \n",
              "  <svg xmlns=\"http://www.w3.org/2000/svg\" height=\"24px\"viewBox=\"0 0 24 24\"\n",
              "       width=\"24px\">\n",
              "    <path d=\"M0 0h24v24H0V0z\" fill=\"none\"/>\n",
              "    <path d=\"M18.56 5.44l.94 2.06.94-2.06 2.06-.94-2.06-.94-.94-2.06-.94 2.06-2.06.94zm-11 1L8.5 8.5l.94-2.06 2.06-.94-2.06-.94L8.5 2.5l-.94 2.06-2.06.94zm10 10l.94 2.06.94-2.06 2.06-.94-2.06-.94-.94-2.06-.94 2.06-2.06.94z\"/><path d=\"M17.41 7.96l-1.37-1.37c-.4-.4-.92-.59-1.43-.59-.52 0-1.04.2-1.43.59L10.3 9.45l-7.72 7.72c-.78.78-.78 2.05 0 2.83L4 21.41c.39.39.9.59 1.41.59.51 0 1.02-.2 1.41-.59l7.78-7.78 2.81-2.81c.8-.78.8-2.07 0-2.86zM5.41 20L4 18.59l7.72-7.72 1.47 1.35L5.41 20z\"/>\n",
              "  </svg>\n",
              "      </button>\n",
              "      \n",
              "  <style>\n",
              "    .colab-df-container {\n",
              "      display:flex;\n",
              "      flex-wrap:wrap;\n",
              "      gap: 12px;\n",
              "    }\n",
              "\n",
              "    .colab-df-convert {\n",
              "      background-color: #E8F0FE;\n",
              "      border: none;\n",
              "      border-radius: 50%;\n",
              "      cursor: pointer;\n",
              "      display: none;\n",
              "      fill: #1967D2;\n",
              "      height: 32px;\n",
              "      padding: 0 0 0 0;\n",
              "      width: 32px;\n",
              "    }\n",
              "\n",
              "    .colab-df-convert:hover {\n",
              "      background-color: #E2EBFA;\n",
              "      box-shadow: 0px 1px 2px rgba(60, 64, 67, 0.3), 0px 1px 3px 1px rgba(60, 64, 67, 0.15);\n",
              "      fill: #174EA6;\n",
              "    }\n",
              "\n",
              "    [theme=dark] .colab-df-convert {\n",
              "      background-color: #3B4455;\n",
              "      fill: #D2E3FC;\n",
              "    }\n",
              "\n",
              "    [theme=dark] .colab-df-convert:hover {\n",
              "      background-color: #434B5C;\n",
              "      box-shadow: 0px 1px 3px 1px rgba(0, 0, 0, 0.15);\n",
              "      filter: drop-shadow(0px 1px 2px rgba(0, 0, 0, 0.3));\n",
              "      fill: #FFFFFF;\n",
              "    }\n",
              "  </style>\n",
              "\n",
              "      <script>\n",
              "        const buttonEl =\n",
              "          document.querySelector('#df-ac445a95-96ec-493b-90ca-482f31c669c6 button.colab-df-convert');\n",
              "        buttonEl.style.display =\n",
              "          google.colab.kernel.accessAllowed ? 'block' : 'none';\n",
              "\n",
              "        async function convertToInteractive(key) {\n",
              "          const element = document.querySelector('#df-ac445a95-96ec-493b-90ca-482f31c669c6');\n",
              "          const dataTable =\n",
              "            await google.colab.kernel.invokeFunction('convertToInteractive',\n",
              "                                                     [key], {});\n",
              "          if (!dataTable) return;\n",
              "\n",
              "          const docLinkHtml = 'Like what you see? Visit the ' +\n",
              "            '<a target=\"_blank\" href=https://colab.research.google.com/notebooks/data_table.ipynb>data table notebook</a>'\n",
              "            + ' to learn more about interactive tables.';\n",
              "          element.innerHTML = '';\n",
              "          dataTable['output_type'] = 'display_data';\n",
              "          await google.colab.output.renderOutput(dataTable, element);\n",
              "          const docLink = document.createElement('div');\n",
              "          docLink.innerHTML = docLinkHtml;\n",
              "          element.appendChild(docLink);\n",
              "        }\n",
              "      </script>\n",
              "    </div>\n",
              "  </div>\n",
              "  "
            ]
          },
          "metadata": {},
          "execution_count": 9
        }
      ],
      "source": [
        "reportsto_data.head()"
      ]
    },
    {
      "cell_type": "code",
      "execution_count": null,
      "metadata": {
        "id": "yw9ZhtiC5XeK"
      },
      "outputs": [],
      "source": []
    },
    {
      "cell_type": "code",
      "execution_count": 10,
      "metadata": {
        "id": "Dr5gJm1c5XeL"
      },
      "outputs": [],
      "source": [
        "class Node:\n",
        "    def __init__(self, n_id):\n",
        "        self.n_id = n_id\n",
        "        self.clear()\n",
        "        \n",
        "        \n",
        "    def features(self):\n",
        "        features_array = np.array([self.send, self.received, self.degree, self.betweenness, self.closeness, self.neighbors_1, self.neighbors_2, self.neighbors_3 ])\n",
        "        return features_array\n",
        "    \n",
        "    def set_label(self,l):\n",
        "        if self.label == l:\n",
        "            return False\n",
        "        else:\n",
        "            self.label = l\n",
        "            return True\n",
        "        \n",
        "    def set_values(self,c,b,d):\n",
        "        self.degree = d\n",
        "        self.betweenness = b\n",
        "        self.closeness = c\n",
        "    \n",
        "    \n",
        "    def update_neighbours(self, neighbors):\n",
        "        self.neighbors_2 =0\n",
        "        self.neighbors_3 =0\n",
        "        self.neighbors_1 =0\n",
        "        \n",
        "        for n in neighbors:\n",
        "            nl = n.label\n",
        "            if nl ==1:\n",
        "                self.neighbors_1 +=1\n",
        "            elif nl ==2:\n",
        "                self.neighbors_2 +=1\n",
        "            elif nl ==3:\n",
        "                self.neighbors_3 +=1\n",
        "                \n",
        "    def show(self):\n",
        "        return( self.n_id, \n",
        "              self.known, \n",
        "              self.label,\n",
        "              self.send,\n",
        "              self.received, \n",
        "              self.degree,\n",
        "              self.betweenness,\n",
        "              self.closeness,\n",
        "              self.neighbors_1,\n",
        "              self.neighbors_2,\n",
        "              self.neighbors_3)\n",
        "        \n",
        "    def clear(self):\n",
        "        self.known = False\n",
        "        self.label = -1\n",
        "        self.send = 0\n",
        "        self.received = 0\n",
        "        self.degree = -1\n",
        "        self.betweenness = -1\n",
        "        self.closeness = -1\n",
        "        self.neighbors_1 = 0\n",
        "        self.neighbors_2 = 0\n",
        "        self.neighbors_3 = 0\n",
        "                \n",
        "            \n",
        "            "
      ]
    },
    {
      "cell_type": "code",
      "execution_count": 11,
      "metadata": {
        "id": "1EN5lUS55XeM"
      },
      "outputs": [],
      "source": [
        "def check_node_value(node_nr):\n",
        "    if node_nr in class1:\n",
        "        return 1\n",
        "    if node_nr in class2:\n",
        "        return 2\n",
        "    return 3"
      ]
    },
    {
      "cell_type": "code",
      "execution_count": 13,
      "metadata": {
        "id": "KOfbkTGH5XeO"
      },
      "outputs": [],
      "source": [
        "def clear_nodes(nodes):\n",
        "    for n in nodes:\n",
        "        nodes[n].clear()"
      ]
    },
    {
      "cell_type": "code",
      "execution_count": 14,
      "metadata": {
        "id": "a44RG3D-5XeO"
      },
      "outputs": [],
      "source": [
        "def select_known(N, source):\n",
        "    known = [x[0] for x in list(source[:N])]\n",
        "    unknown = [x[0] for x in list(source[N:])]\n",
        "    return known, unknown"
      ]
    },
    {
      "cell_type": "code",
      "execution_count": null,
      "metadata": {
        "id": "GXouD71-5XeP"
      },
      "outputs": [],
      "source": []
    },
    {
      "cell_type": "code",
      "execution_count": 23,
      "metadata": {
        "id": "zt4CwDJi5XeP"
      },
      "outputs": [],
      "source": [
        "def prepare_nodes(k_nodes,betweennes,closeness,degree, nodes, G=G): \n",
        "    for n in k_nodes:\n",
        "        node = nodes[n]\n",
        "        node.known = True\n",
        "        node.label = check_node_value(n)\n",
        "\n",
        "\n",
        "    for n in nodes:\n",
        "        node = nodes[n]\n",
        "        node.set_values(closeness[n],betweennes[n],degree[n])\n",
        "        node.update_neighbours(get_node_neighbours(G, n,nodes))\n",
        "\n"
      ]
    },
    {
      "cell_type": "code",
      "execution_count": 18,
      "metadata": {
        "id": "ifMS5RzN5XeQ"
      },
      "outputs": [],
      "source": [
        "\n",
        "all_nodes = {}\n",
        "edges_communication_all = []\n",
        "\n",
        "for index, row in communication_data.iterrows():\n",
        "    sender_id = int(row['Sender'])\n",
        "    recipient_id = int(row['Recipient'])\n",
        "    \n",
        "    edges_communication_all.append((sender_id,recipient_id ))\n",
        "    \n",
        "    \n",
        "    if recipient_id not in all_nodes:\n",
        "        all_nodes[recipient_id] = Node(recipient_id)\n",
        "        \n",
        "    if sender_id not in all_nodes:\n",
        "        all_nodes[sender_id]  = Node(sender_id)\n",
        "        \n",
        "    all_nodes[recipient_id].received +=1\n",
        "    all_nodes[sender_id].send +=1\n",
        "        \n"
      ]
    },
    {
      "cell_type": "code",
      "execution_count": 19,
      "metadata": {
        "id": "_I13d1iu5XeQ"
      },
      "outputs": [],
      "source": [
        "#remove duplicates:\n",
        "\n",
        "edges_communication = []\n",
        "for s,r in edges_communication_all:\n",
        "    if not((s,r) in edges_communication or  (r,s) in edges_communication):\n",
        "        edges_communication.append((s,r))\n",
        "        \n",
        "        \n",
        "    "
      ]
    },
    {
      "cell_type": "code",
      "execution_count": 20,
      "metadata": {
        "id": "gltPSIq25XeR",
        "outputId": "3bf11434-de20-4005-bf60-793cec93a98e",
        "colab": {
          "base_uri": "https://localhost:8080/"
        }
      },
      "outputs": [
        {
          "output_type": "execute_result",
          "data": {
            "text/plain": [
              "3251"
            ]
          },
          "metadata": {},
          "execution_count": 20
        }
      ],
      "source": [
        "len(edges_communication)"
      ]
    },
    {
      "cell_type": "code",
      "execution_count": null,
      "metadata": {
        "id": "LMQ5_-wF5XeR"
      },
      "outputs": [],
      "source": []
    },
    {
      "cell_type": "code",
      "execution_count": 21,
      "metadata": {
        "id": "99334tj_5XeR"
      },
      "outputs": [],
      "source": [
        "G = nx.Graph()\n",
        "G.add_edges_from(edges_communication)"
      ]
    },
    {
      "cell_type": "code",
      "execution_count": 16,
      "metadata": {
        "id": "CpMykeLs5XeN"
      },
      "outputs": [],
      "source": [
        "def get_node_neighbours(G,n_id,all_nodes):\n",
        "    node_neighbours = []\n",
        "    for nn in G.neighbors(n_id):\n",
        "        node_neighbours.append(all_nodes[nn])\n",
        "    return node_neighbours"
      ]
    },
    {
      "cell_type": "code",
      "execution_count": null,
      "metadata": {
        "id": "mLLdmxPc5XeS"
      },
      "outputs": [],
      "source": []
    },
    {
      "cell_type": "code",
      "execution_count": 24,
      "metadata": {
        "id": "VbL4mXs-5XeS",
        "colab": {
          "base_uri": "https://localhost:8080/",
          "height": 319
        },
        "outputId": "d52289e1-62e5-4506-e3f1-412222e1642a"
      },
      "outputs": [
        {
          "output_type": "display_data",
          "data": {
            "text/plain": [
              "<Figure size 432x288 with 1 Axes>"
            ],
            "image/png": "[encoded data removed]"
          },
          "metadata": {}
        }
      ],
      "source": [
        "pos = nx.circular_layout(G)\n",
        "\n",
        "nx.draw(G, with_labels=True, node_size=10)\n"
      ]
    },
    {
      "cell_type": "code",
      "execution_count": null,
      "metadata": {
        "id": "T5BT6TLQ5XeT"
      },
      "outputs": [],
      "source": []
    },
    {
      "cell_type": "code",
      "execution_count": 25,
      "metadata": {
        "id": "CrxJgBaJ5XeT"
      },
      "outputs": [],
      "source": [
        "betweenness_dict = nx.betweenness_centrality(G)\n",
        "closeness_dict = nx.closeness_centrality(G)\n",
        "degree_dict = dict(G.degree())"
      ]
    },
    {
      "cell_type": "code",
      "execution_count": 26,
      "metadata": {
        "id": "NjtCWdZ65XeT"
      },
      "outputs": [],
      "source": [
        "betweenness_sorted = sorted(betweenness_dict.items(), key = itemgetter(1), reverse = True) \n",
        "closeness_sorted = sorted(closeness_dict.items(), key = itemgetter(1), reverse = True)\n",
        "degree_sorted = sorted(degree_dict.items(), key = itemgetter(1), reverse = True)\n"
      ]
    },
    {
      "cell_type": "code",
      "execution_count": null,
      "metadata": {
        "id": "8GF498di5XeU"
      },
      "outputs": [],
      "source": []
    },
    {
      "cell_type": "code",
      "execution_count": null,
      "metadata": {
        "id": "O0vqNJ8f5XeU"
      },
      "outputs": [],
      "source": []
    },
    {
      "cell_type": "code",
      "execution_count": null,
      "metadata": {
        "id": "kDTQPb0s5XeU"
      },
      "outputs": [],
      "source": []
    },
    {
      "cell_type": "code",
      "execution_count": 34,
      "metadata": {
        "id": "YK8mc2v_5XeU"
      },
      "outputs": [],
      "source": [
        "def train_classifier(k_nodes , nodes, classification_type='dt' ):\n",
        "    # prepare train data for classifier:\n",
        "    x_train = []\n",
        "    y_train = []\n",
        "\n",
        "    for k in k_nodes:\n",
        "        n = nodes[k]\n",
        "        x_train.append(n.features())\n",
        "        y_train.append(n.label)\n",
        "\n",
        "    if classification_type == 'dt':\n",
        "        classifier = DecisionTreeClassifier( random_state =2)\n",
        "    elif classification_type == 'gnb':\n",
        "        classifier = GaussianNB()\n",
        "    else:\n",
        "        raise Exception( 'This classification type is not available') \n",
        "        \n",
        "    classifier = classifier.fit(x_train, y_train)   \n",
        "    return classifier"
      ]
    },
    {
      "cell_type": "code",
      "execution_count": null,
      "metadata": {
        "id": "Y97iRdiH5XeV"
      },
      "outputs": [],
      "source": []
    },
    {
      "cell_type": "code",
      "execution_count": 28,
      "metadata": {
        "id": "FYaFn8Jb5XeV"
      },
      "outputs": [],
      "source": [
        "def run_iterative_classification( classifier, nodes_order, nodes, max_iters = 1000, G=G ):\n",
        "\n",
        "    MAX_ITERS = max_iters\n",
        "    label_changed = True\n",
        "    n_iter = 0\n",
        "    while label_changed and n_iter<MAX_ITERS:\n",
        "        label_changed = False \n",
        "        for o in nodes_order:\n",
        "            node = nodes[o]\n",
        "            prev_label = node.label\n",
        "            n_neighbours = get_node_neighbours(G, o,all_nodes)\n",
        "            node.update_neighbours(n_neighbours)\n",
        "            nf = node.features()\n",
        "            n_curr_label = classifier.predict([nf])[0]\n",
        "            n_changed = node.set_label(n_curr_label)\n",
        "            if n_changed:\n",
        "                label_changed = True\n",
        "        n_iter+=1\n",
        "    print('Number of iters:', n_iter)\n"
      ]
    },
    {
      "cell_type": "code",
      "execution_count": 29,
      "metadata": {
        "id": "i-W8rF-65XeW"
      },
      "outputs": [],
      "source": [
        "def evaluate(nodes_to_evaluate, all_nodes):\n",
        "    true_labels = []\n",
        "    pred_labels = []\n",
        "    for o in nodes_to_evaluate:\n",
        "        n = all_nodes[o]\n",
        "        pred_labels.append(n.label)\n",
        "        true_labels.append(check_node_value(o))\n",
        "    f1 = f1_score(true_labels, pred_labels, average='macro')\n",
        "    accuracy = accuracy_score(true_labels, pred_labels)\n",
        "    #print(classification_report(true_labels, pred_labels))\n",
        "    return f1, accuracy "
      ]
    },
    {
      "cell_type": "code",
      "execution_count": null,
      "metadata": {
        "id": "KSaHkhxj5XeW"
      },
      "outputs": [],
      "source": []
    },
    {
      "cell_type": "code",
      "execution_count": 30,
      "metadata": {
        "id": "AXBi4eT05XeW"
      },
      "outputs": [],
      "source": [
        "b = betweenness_sorted\n",
        "c = closeness_sorted\n",
        "d = degree_sorted"
      ]
    },
    {
      "cell_type": "code",
      "execution_count": null,
      "metadata": {
        "id": "fmY9q6jN5XeX"
      },
      "outputs": [],
      "source": []
    },
    {
      "cell_type": "code",
      "execution_count": 35,
      "metadata": {
        "id": "4Q8_1tC95XeX",
        "outputId": "b633532e-4b87-4066-e1e9-f2a003fa72af",
        "colab": {
          "base_uri": "https://localhost:8080/"
        }
      },
      "outputs": [
        {
          "output_type": "stream",
          "name": "stdout",
          "text": [
            "Number of iters: 2\n"
          ]
        },
        {
          "output_type": "execute_result",
          "data": {
            "text/plain": [
              "(0.3075030750307503, 0.8503401360544217)"
            ]
          },
          "metadata": {},
          "execution_count": 35
        }
      ],
      "source": [
        "clear_nodes(all_nodes)\n",
        "known_nodes,unknown_nodes = select_known(20,d)\n",
        "prepare_nodes(known_nodes, betweenness_dict, closeness_dict, degree_dict, nodes = all_nodes)\n",
        "classifier = train_classifier( k_nodes = known_nodes, nodes = all_nodes)\n",
        "run_iterative_classification(classifier,nodes_order = unknown_nodes,  nodes = all_nodes)\n",
        "evaluate(unknown_nodes, all_nodes)"
      ]
    },
    {
      "cell_type": "code",
      "execution_count": null,
      "metadata": {
        "id": "zWpYOaIb5XeY"
      },
      "outputs": [],
      "source": []
    },
    {
      "cell_type": "code",
      "execution_count": null,
      "metadata": {
        "id": "MR4V_t195XeY"
      },
      "outputs": [],
      "source": []
    },
    {
      "cell_type": "markdown",
      "metadata": {
        "id": "YjlN5rbI5XeY"
      },
      "source": [
        "### Results"
      ]
    },
    {
      "cell_type": "markdown",
      "metadata": {
        "id": "WrrNUNlk5Xea"
      },
      "source": [
        "#### Decision Tree Classifier\n",
        "\n",
        "|UtilityScore | Nr of known nodes| Acc |Fscore | \n",
        "|--------------|------------|----------|-------|\n",
        "|Degree| 10|  4|  3| \n",
        "|Degree|20 |80 |31|\n",
        "|Degree |40 |91| 32 |\n",
        "|Degree |60 |93 |32|\n",
        "|Degree|80 | 93| 32|\n",
        "|Degree|100|  93| 32|\n",
        "|Degree |120 |84 |32|\n",
        "|Degree |140 |89| 31|\n",
        "| |  \n",
        "|Betweenness  |10  |11 |8 |\n",
        "|Betweenness  |20| 5 |3| \n",
        "|Betweenness |40  |91 |32 |\n",
        "|Betweenness  |60 | 64| 28|\n",
        "|Betweenness  |80  |59 |26|\n",
        "|Betweenness  |100 |49 |24|\n",
        "|Betweenness  |120| 2 | 1|\n",
        "|Betweenness | 140| 4 |2| \n",
        "||\n",
        "|Closeness  |10|  4 |3|\n",
        "|Closeness|20| 80| 35|\n",
        "|Closeness |40| 92 |32| \n",
        "|Closeness| 60| 93| 32 |\n",
        "|Closeness| 80|  94 |32 | \n",
        "|Closeness| 100|  94| 32 |\n",
        "|Closeness |120 |94| 32|\n",
        "|Closeness| 140 |4| 3 |"
      ]
    },
    {
      "cell_type": "markdown",
      "metadata": {
        "id": "WwvagQJt5Xeb"
      },
      "source": [
        "#### Naive Bayes Tree Classifier\n",
        "\n",
        "\n",
        "|UtilityScore | Nr of known nodes| Acc |Fscore | \n",
        "|--------------|------------|----------|-------|\n",
        "|Degree| 10| 85 |31  | \n",
        "|Degree|20 |88 |31|\n",
        "|Degree |40 |91| 32 |\n",
        "|Degree |60 |93 |32|\n",
        "|Degree|80 | 93| 32|\n",
        "|Degree|100|  94| 32|\n",
        "|Degree |120 |94 |32|\n",
        "|Degree |140 |89| 31|\n",
        "| |  \n",
        "|Betweenness  |10  |89 |31|\n",
        "|Betweenness  |20| 88|31| \n",
        "|Betweenness |40  |6 |4 |\n",
        "|Betweenness  |60 | 93| 32|\n",
        "|Betweenness  |80  |94 |32|\n",
        "|Betweenness  |100 |96 |33|\n",
        "|Betweenness  |120| 96| 33|\n",
        "|Betweenness | 140| 93 |32| \n",
        "||\n",
        "|Closeness  |10|  88 |31|\n",
        "|Closeness|20| 88| 31|\n",
        "|Closeness |40| 92 |32| \n",
        "|Closeness| 60| 93| 32 |\n",
        "|Closeness| 80|  94 |32 | \n",
        "|Closeness| 100|  94| 32 |\n",
        "|Closeness |120 |94| 32|\n",
        "|Closeness| 140 |93| 32 |"
      ]
    },
    {
      "cell_type": "code",
      "execution_count": null,
      "metadata": {
        "id": "p-YalbhB5Xec"
      },
      "outputs": [],
      "source": []
    }
  ],
  "metadata": {
    "kernelspec": {
      "display_name": "Python 3",
      "language": "python",
      "name": "python3"
    },
    "language_info": {
      "codemirror_mode": {
        "name": "ipython",
        "version": 3
      },
      "file_extension": ".py",
      "mimetype": "text/x-python",
      "name": "python",
      "nbconvert_exporter": "python",
      "pygments_lexer": "ipython3",
      "version": "3.7.2"
    },
    "colab": {
      "provenance": [],
      "include_colab_link": true
    }
  },
  "nbformat": 4,
  "nbformat_minor": 0
}